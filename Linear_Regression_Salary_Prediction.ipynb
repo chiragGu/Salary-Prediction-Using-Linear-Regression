{
  "nbformat": 4,
  "nbformat_minor": 0,
  "metadata": {
    "colab": {
      "provenance": [],
      "collapsed_sections": []
    },
    "kernelspec": {
      "name": "python3",
      "display_name": "Python 3"
    }
  },
  "cells": [
    {
      "cell_type": "code",
      "metadata": {
        "id": "6xa-eRyIqLFt"
      },
      "source": [
        "## Used to predict the real value: like cost of house, investment, sales in a company and blah blah\n",
        "## Salary prediction using LR\n",
        "## Regression:- Determines the strength of relationship b/w dependent (Y) and independent (X) variable \n",
        "## Mathematical Eqn: Y= mX+b+error, where m= slope, b= y-intercept, i.e. Eqn of straight line\n",
        "## We have to find the best Eqn of line for our data using LR\n",
        "## R^2 gives the accuracy, it ranges b/w 0 to 1, if R^2 value is closer to 1 then its a best fit line.\n",
        "## Error (epsilon) tells how far the actual points are away from predicted points (Actual - predicted)\n",
        "## Use sklearn library for it"
      ],
      "execution_count": null,
      "outputs": []
    },
    {
      "cell_type": "code",
      "metadata": {
        "id": "aR05o5ywx3p1"
      },
      "source": [
        "import pandas as pd\n",
        "import matplotlib.pyplot as plt"
      ],
      "execution_count": null,
      "outputs": []
    },
    {
      "cell_type": "code",
      "metadata": {
        "id": "cIaLkdQmy5z5"
      },
      "source": [
        "data= pd.read_csv(\"Salary_Data.csv\")"
      ],
      "execution_count": null,
      "outputs": []
    },
    {
      "cell_type": "code",
      "metadata": {
        "id": "KlT-qU8b0WRu",
        "colab": {
          "base_uri": "https://localhost:8080/",
          "height": 204
        },
        "outputId": "74dab37c-0c4d-42b4-c1ea-b980a024a220"
      },
      "source": [
        "data.head()"
      ],
      "execution_count": null,
      "outputs": [
        {
          "output_type": "execute_result",
          "data": {
            "text/html": [
              "<div>\n",
              "<style scoped>\n",
              "    .dataframe tbody tr th:only-of-type {\n",
              "        vertical-align: middle;\n",
              "    }\n",
              "\n",
              "    .dataframe tbody tr th {\n",
              "        vertical-align: top;\n",
              "    }\n",
              "\n",
              "    .dataframe thead th {\n",
              "        text-align: right;\n",
              "    }\n",
              "</style>\n",
              "<table border=\"1\" class=\"dataframe\">\n",
              "  <thead>\n",
              "    <tr style=\"text-align: right;\">\n",
              "      <th></th>\n",
              "      <th>YearsExperience</th>\n",
              "      <th>Salary</th>\n",
              "    </tr>\n",
              "  </thead>\n",
              "  <tbody>\n",
              "    <tr>\n",
              "      <th>0</th>\n",
              "      <td>1.1</td>\n",
              "      <td>39343.0</td>\n",
              "    </tr>\n",
              "    <tr>\n",
              "      <th>1</th>\n",
              "      <td>1.3</td>\n",
              "      <td>46205.0</td>\n",
              "    </tr>\n",
              "    <tr>\n",
              "      <th>2</th>\n",
              "      <td>1.5</td>\n",
              "      <td>37731.0</td>\n",
              "    </tr>\n",
              "    <tr>\n",
              "      <th>3</th>\n",
              "      <td>2.0</td>\n",
              "      <td>43525.0</td>\n",
              "    </tr>\n",
              "    <tr>\n",
              "      <th>4</th>\n",
              "      <td>2.2</td>\n",
              "      <td>39891.0</td>\n",
              "    </tr>\n",
              "  </tbody>\n",
              "</table>\n",
              "</div>"
            ],
            "text/plain": [
              "   YearsExperience   Salary\n",
              "0              1.1  39343.0\n",
              "1              1.3  46205.0\n",
              "2              1.5  37731.0\n",
              "3              2.0  43525.0\n",
              "4              2.2  39891.0"
            ]
          },
          "metadata": {
            "tags": []
          },
          "execution_count": 5
        }
      ]
    },
    {
      "cell_type": "code",
      "metadata": {
        "id": "OQ86zdZD0Xxj"
      },
      "source": [
        "## Divide data in x and y i.e. x is features , y is target \n",
        "## Here x will be experience, y will be salary\n",
        "## We only need them in array as the LR library expects the data in terms of array only "
      ],
      "execution_count": null,
      "outputs": []
    },
    {
      "cell_type": "code",
      "metadata": {
        "id": "dxNW2ywK1jYA"
      },
      "source": [
        "x= data['YearsExperience'].values\n",
        "y= data['Salary'].values"
      ],
      "execution_count": null,
      "outputs": []
    },
    {
      "cell_type": "code",
      "metadata": {
        "id": "RBYRUb5d2VyP"
      },
      "source": [
        "## x= pd.array(data['YearsExperience']) // This also converts to array try it later on..."
      ],
      "execution_count": null,
      "outputs": []
    },
    {
      "cell_type": "code",
      "metadata": {
        "id": "0Si5fOyq1zwS",
        "colab": {
          "base_uri": "https://localhost:8080/",
          "height": 68
        },
        "outputId": "a2b3aeec-747a-4806-c494-c4779e60d61b"
      },
      "source": [
        "x"
      ],
      "execution_count": null,
      "outputs": [
        {
          "output_type": "execute_result",
          "data": {
            "text/plain": [
              "array([ 1.1,  1.3,  1.5,  2. ,  2.2,  2.9,  3. ,  3.2,  3.2,  3.7,  3.9,\n",
              "        4. ,  4. ,  4.1,  4.5,  4.9,  5.1,  5.3,  5.9,  6. ,  6.8,  7.1,\n",
              "        7.9,  8.2,  8.7,  9. ,  9.5,  9.6, 10.3, 10.5])"
            ]
          },
          "metadata": {
            "tags": []
          },
          "execution_count": 10
        }
      ]
    },
    {
      "cell_type": "code",
      "metadata": {
        "id": "P9XCS7ak10wu",
        "colab": {
          "base_uri": "https://localhost:8080/",
          "height": 102
        },
        "outputId": "33a03fcd-4c20-418e-8e66-18a9f018e0dc"
      },
      "source": [
        "y"
      ],
      "execution_count": null,
      "outputs": [
        {
          "output_type": "execute_result",
          "data": {
            "text/plain": [
              "array([ 39343.,  46205.,  37731.,  43525.,  39891.,  56642.,  60150.,\n",
              "        54445.,  64445.,  57189.,  63218.,  55794.,  56957.,  57081.,\n",
              "        61111.,  67938.,  66029.,  83088.,  81363.,  93940.,  91738.,\n",
              "        98273., 101302., 113812., 109431., 105582., 116969., 112635.,\n",
              "       122391., 121872.])"
            ]
          },
          "metadata": {
            "tags": []
          },
          "execution_count": 13
        }
      ]
    },
    {
      "cell_type": "code",
      "metadata": {
        "id": "DUG1ly692xTO",
        "colab": {
          "base_uri": "https://localhost:8080/",
          "height": 34
        },
        "outputId": "d8327578-5255-4f86-bd8a-b801db8087ad"
      },
      "source": [
        "x.shape \n",
        "## For LR the shape should be (number of samples, number of features), We have only 1 feature which is years of experience\n",
        "## So our shape should be (30,1)\n",
        "## Feautures are the columns names which will govern our target!"
      ],
      "execution_count": null,
      "outputs": [
        {
          "output_type": "execute_result",
          "data": {
            "text/plain": [
              "(30,)"
            ]
          },
          "metadata": {
            "tags": []
          },
          "execution_count": 15
        }
      ]
    },
    {
      "cell_type": "code",
      "metadata": {
        "id": "U3cqrxTq3N4u"
      },
      "source": [
        "x=x.reshape(len(x),1)\n",
        "y=y.reshape(len(y),1)"
      ],
      "execution_count": null,
      "outputs": []
    },
    {
      "cell_type": "code",
      "metadata": {
        "id": "CyXJI4OT3a3x",
        "colab": {
          "base_uri": "https://localhost:8080/",
          "height": 34
        },
        "outputId": "8d557293-2303-44ca-95d1-0fc0f1faec64"
      },
      "source": [
        "x.shape"
      ],
      "execution_count": null,
      "outputs": [
        {
          "output_type": "execute_result",
          "data": {
            "text/plain": [
              "(30, 1)"
            ]
          },
          "metadata": {
            "tags": []
          },
          "execution_count": 17
        }
      ]
    },
    {
      "cell_type": "code",
      "metadata": {
        "id": "gdsOJxFG3dE7",
        "colab": {
          "base_uri": "https://localhost:8080/",
          "height": 34
        },
        "outputId": "5a1df136-17ca-4a8d-fb55-2cfe164efb46"
      },
      "source": [
        "y.shape"
      ],
      "execution_count": null,
      "outputs": [
        {
          "output_type": "execute_result",
          "data": {
            "text/plain": [
              "(30, 1)"
            ]
          },
          "metadata": {
            "tags": []
          },
          "execution_count": 18
        }
      ]
    },
    {
      "cell_type": "code",
      "metadata": {
        "id": "UfkfQ2lT2IdE"
      },
      "source": [
        "## Split the data in training and testing data\n",
        "from sklearn.model_selection import train_test_split\n",
        "xtrain,xtest,ytrain,ytest = train_test_split(x,y,test_size=0.20,random_state=0)\n",
        "## random_state is a set seed kinda thing we took 0 here\n",
        "## This randomly splits the data in 80:20 ratio for train:test"
      ],
      "execution_count": null,
      "outputs": []
    },
    {
      "cell_type": "code",
      "metadata": {
        "id": "5det0tHD5Al3",
        "colab": {
          "base_uri": "https://localhost:8080/",
          "height": 425
        },
        "outputId": "8c06b57b-4b55-4b33-d8b1-ba262e5690ab"
      },
      "source": [
        "xtrain"
      ],
      "execution_count": null,
      "outputs": [
        {
          "output_type": "execute_result",
          "data": {
            "text/plain": [
              "array([[ 9.6],\n",
              "       [ 4. ],\n",
              "       [ 5.3],\n",
              "       [ 7.9],\n",
              "       [ 2.9],\n",
              "       [ 5.1],\n",
              "       [ 3.2],\n",
              "       [ 4.5],\n",
              "       [ 8.2],\n",
              "       [ 6.8],\n",
              "       [ 1.3],\n",
              "       [10.5],\n",
              "       [ 3. ],\n",
              "       [ 2.2],\n",
              "       [ 5.9],\n",
              "       [ 6. ],\n",
              "       [ 3.7],\n",
              "       [ 3.2],\n",
              "       [ 9. ],\n",
              "       [ 2. ],\n",
              "       [ 1.1],\n",
              "       [ 7.1],\n",
              "       [ 4.9],\n",
              "       [ 4. ]])"
            ]
          },
          "metadata": {
            "tags": []
          },
          "execution_count": 50
        }
      ]
    },
    {
      "cell_type": "code",
      "metadata": {
        "id": "tCvGfhrE5Bug",
        "colab": {
          "base_uri": "https://localhost:8080/",
          "height": 119
        },
        "outputId": "c37c86a5-f58f-4c53-f2ec-933605d70605"
      },
      "source": [
        "xtest"
      ],
      "execution_count": null,
      "outputs": [
        {
          "output_type": "execute_result",
          "data": {
            "text/plain": [
              "array([[ 1.5],\n",
              "       [10.3],\n",
              "       [ 4.1],\n",
              "       [ 3.9],\n",
              "       [ 9.5],\n",
              "       [ 8.7]])"
            ]
          },
          "metadata": {
            "tags": []
          },
          "execution_count": 51
        }
      ]
    },
    {
      "cell_type": "code",
      "metadata": {
        "id": "p8izJuJM5Cp3",
        "colab": {
          "base_uri": "https://localhost:8080/",
          "height": 68
        },
        "outputId": "8689b01b-d530-4de1-aea7-b9e3eaf70947"
      },
      "source": [
        "data.isnull().sum()"
      ],
      "execution_count": null,
      "outputs": [
        {
          "output_type": "execute_result",
          "data": {
            "text/plain": [
              "YearsExperience    0\n",
              "Salary             0\n",
              "dtype: int64"
            ]
          },
          "metadata": {
            "tags": []
          },
          "execution_count": 52
        }
      ]
    },
    {
      "cell_type": "code",
      "metadata": {
        "id": "skbH7jmk5fi9"
      },
      "source": [
        "## Building the model \n",
        "from sklearn.linear_model import LinearRegression\n",
        "model = LinearRegression()"
      ],
      "execution_count": null,
      "outputs": []
    },
    {
      "cell_type": "code",
      "metadata": {
        "id": "fD_GxXas5sj3",
        "colab": {
          "base_uri": "https://localhost:8080/",
          "height": 34
        },
        "outputId": "08ce9e51-1998-4cae-f8a5-6167d902747a"
      },
      "source": [
        "## Train the model \n",
        "model.fit(xtrain,ytrain)"
      ],
      "execution_count": null,
      "outputs": [
        {
          "output_type": "execute_result",
          "data": {
            "text/plain": [
              "LinearRegression(copy_X=True, fit_intercept=True, n_jobs=None, normalize=False)"
            ]
          },
          "metadata": {
            "tags": []
          },
          "execution_count": 54
        }
      ]
    },
    {
      "cell_type": "code",
      "metadata": {
        "id": "V-pwcNMd56rq",
        "colab": {
          "base_uri": "https://localhost:8080/",
          "height": 119
        },
        "outputId": "d1148207-ce3c-4422-bf61-2808e7994b5e"
      },
      "source": [
        "## Prediction\n",
        "ypred= model.predict(xtest)\n",
        "ypred\n",
        "## The value model has predicted (Used gradient descent)"
      ],
      "execution_count": null,
      "outputs": [
        {
          "output_type": "execute_result",
          "data": {
            "text/plain": [
              "array([[ 40748.96184072],\n",
              "       [122699.62295594],\n",
              "       [ 64961.65717022],\n",
              "       [ 63099.14214487],\n",
              "       [115249.56285456],\n",
              "       [107799.50275317]])"
            ]
          },
          "metadata": {
            "tags": []
          },
          "execution_count": 55
        }
      ]
    },
    {
      "cell_type": "code",
      "metadata": {
        "id": "0Z00eQM97FH7",
        "colab": {
          "base_uri": "https://localhost:8080/",
          "height": 119
        },
        "outputId": "0d019342-339d-4f36-fafd-f39cfcda8e44"
      },
      "source": [
        "ytest\n",
        "## The actual value we had "
      ],
      "execution_count": null,
      "outputs": [
        {
          "output_type": "execute_result",
          "data": {
            "text/plain": [
              "array([[ 37731.],\n",
              "       [122391.],\n",
              "       [ 57081.],\n",
              "       [ 63218.],\n",
              "       [116969.],\n",
              "       [109431.]])"
            ]
          },
          "metadata": {
            "tags": []
          },
          "execution_count": 56
        }
      ]
    },
    {
      "cell_type": "code",
      "metadata": {
        "id": "8Q11nNwG7G34",
        "colab": {
          "base_uri": "https://localhost:8080/",
          "height": 265
        },
        "outputId": "876a8145-5692-42f8-d58e-2bd3588c67d6"
      },
      "source": [
        "## Now we draw the line of regression for the TRAINING samples \n",
        "## We plot the scatter plots with actual points, predicted points and then the line graph for the regression line\n",
        "plt.scatter(xtrain,ytrain, color='blue', label= \"Actual Points\") ## Actual value \n",
        "plt.scatter(xtrain, model.predict(xtrain), color='red', label=\"Predicted Points\") ## Predicted value\n",
        "plt.plot(xtrain,model.predict(xtrain),color='grey', label=\"Line of Regression\") ## Regression line\n",
        "plt.legend(loc= 4)\n",
        "plt.show()"
      ],
      "execution_count": null,
      "outputs": [
        {
          "output_type": "display_data",
          "data": {
            "image/png": "[encoded data removed]",
            "text/plain": [
              "<Figure size 432x288 with 1 Axes>"
            ]
          },
          "metadata": {
            "tags": [],
            "needs_background": "light"
          }
        }
      ]
    },
    {
      "cell_type": "code",
      "metadata": {
        "id": "9f1Y1k2Y8hmn",
        "colab": {
          "base_uri": "https://localhost:8080/",
          "height": 265
        },
        "outputId": "a2ae6fa0-42a9-4fda-fadc-7f9da77aeab9"
      },
      "source": [
        "## Now we draw the line of regression for the TESTING samples \n",
        "plt.scatter(xtest,ytest, color='blue', label= \"Actual Points\") ## Actual value \n",
        "plt.scatter(xtest, model.predict(xtest), color='red', label=\"Predicted Points\") ## Predicted value\n",
        "plt.plot(xtest,model.predict(xtest),color='grey', label=\"Line of Regression\") ## Regression line\n",
        "plt.legend(loc= 4)\n",
        "plt.show()"
      ],
      "execution_count": null,
      "outputs": [
        {
          "output_type": "display_data",
          "data": {
            "image/png": "[encoded data removed]",
            "text/plain": [
              "<Figure size 432x288 with 1 Axes>"
            ]
          },
          "metadata": {
            "tags": [],
            "needs_background": "light"
          }
        }
      ]
    },
    {
      "cell_type": "code",
      "metadata": {
        "id": "nRVBI6X4-JzF",
        "colab": {
          "base_uri": "https://localhost:8080/",
          "height": 34
        },
        "outputId": "d6d9bc5d-963e-4ff9-a471-0adec15e00bb"
      },
      "source": [
        "## Calculating the R^2 i.e. the accuracy of the model\n",
        "from sklearn.metrics import r2_score\n",
        "r2 = r2_score(ytest,ypred)\n",
        "r2\n",
        "## 0.988169515729126 -- This means we have an accuracy of 98.81% which is damm good!"
      ],
      "execution_count": null,
      "outputs": [
        {
          "output_type": "execute_result",
          "data": {
            "text/plain": [
              "0.988169515729126"
            ]
          },
          "metadata": {
            "tags": []
          },
          "execution_count": 59
        }
      ]
    },
    {
      "cell_type": "code",
      "metadata": {
        "id": "4YW_vlZrMHiS",
        "colab": {
          "base_uri": "https://localhost:8080/",
          "height": 34
        },
        "outputId": "9ffcc627-c2d1-48c4-abd5-177357797925"
      },
      "source": [
        "## Calculation in the MSE (I mean this one is optional if we want to know the mean square error of the data)\n",
        "from sklearn.metrics import mean_squared_error\n",
        "e= mean_squared_error(ytest,ypred)\n",
        "e"
      ],
      "execution_count": null,
      "outputs": [
        {
          "output_type": "execute_result",
          "data": {
            "text/plain": [
              "12823412.298126549"
            ]
          },
          "metadata": {
            "tags": []
          },
          "execution_count": 84
        }
      ]
    },
    {
      "cell_type": "code",
      "metadata": {
        "id": "dS9E0m2FDOuQ",
        "colab": {
          "base_uri": "https://localhost:8080/",
          "height": 34
        },
        "outputId": "1b748aef-9905-42e0-c63a-0b00b40e547c"
      },
      "source": [
        "## Equation of line \n",
        "m = model.coef_\n",
        "c= model.intercept_\n",
        "print(m,c)\n",
        "## [[9312.57512673]] [26780.09915063] // OUTPUT\n",
        "## So our Eqn of line is Y= 9312.57512673*X + 26780.09915063"
      ],
      "execution_count": null,
      "outputs": [
        {
          "output_type": "stream",
          "text": [
            "[[9312.57512673]] [26780.09915063]\n"
          ],
          "name": "stdout"
        }
      ]
    },
    {
      "cell_type": "code",
      "metadata": {
        "id": "sHnPzEK7EP70",
        "colab": {
          "base_uri": "https://localhost:8080/",
          "height": 34
        },
        "outputId": "5fb6c750-c22f-4bdc-e036-559d588b0d4d"
      },
      "source": [
        "## We can use this line eqn to find the value of new sample\n",
        "## If we want to know the sal of 15yr of exp\n",
        "y= m*15+c\n",
        "y"
      ],
      "execution_count": null,
      "outputs": [
        {
          "output_type": "execute_result",
          "data": {
            "text/plain": [
              "array([[166468.72605157]])"
            ]
          },
          "metadata": {
            "tags": []
          },
          "execution_count": 65
        }
      ]
    },
    {
      "cell_type": "code",
      "metadata": {
        "id": "hy6gOv3eFpVL",
        "colab": {
          "base_uri": "https://localhost:8080/",
          "height": 34
        },
        "outputId": "543e3caf-ad22-49e9-ff16-040597099eee"
      },
      "source": [
        "## OR \n",
        "model.predict([[15]]) ## Note the double square brackets as this function needs a 2D array"
      ],
      "execution_count": null,
      "outputs": [
        {
          "output_type": "execute_result",
          "data": {
            "text/plain": [
              "array([[166468.72605157]])"
            ]
          },
          "metadata": {
            "tags": []
          },
          "execution_count": 68
        }
      ]
    },
    {
      "cell_type": "code",
      "metadata": {
        "id": "sKIunW7-FwcH",
        "colab": {
          "base_uri": "https://localhost:8080/",
          "height": 34
        },
        "outputId": "61f13179-f3e3-4966-c7c7-1ce05a76c2aa"
      },
      "source": [
        "## Now that the model is trained, I need to save it for future use..\n",
        "## Saving the created LR model\n",
        "from sklearn.externals import joblib\n",
        "joblib.dump(model,'LinearRegression.pkl')\n",
        "## the above was our (model_name, filename)"
      ],
      "execution_count": null,
      "outputs": [
        {
          "output_type": "execute_result",
          "data": {
            "text/plain": [
              "['LinearRegression.pkl']"
            ]
          },
          "metadata": {
            "tags": []
          },
          "execution_count": 70
        }
      ]
    },
    {
      "cell_type": "code",
      "metadata": {
        "id": "DCevcY72HAum"
      },
      "source": [
        "## To load the created model we do the following \n",
        "## Loading the model \n",
        "## from sklearn.externals import joblib\n",
        "## abc= joblib.load('LinearRegression.pkl')\n",
        "## abc.predict([[123]])"
      ],
      "execution_count": null,
      "outputs": []
    },
    {
      "cell_type": "code",
      "metadata": {
        "id": "DglvLuck0nqz",
        "colab": {
          "base_uri": "https://localhost:8080/",
          "height": 34
        },
        "outputId": "69eecce9-06d4-4737-82e7-c2ccb11bd063"
      },
      "source": [
        "from sklearn.externals import joblib\n",
        "model= joblib.load('LinearRegression.pkl')\n",
        "model.predict([[15]])"
      ],
      "execution_count": null,
      "outputs": [
        {
          "output_type": "execute_result",
          "data": {
            "text/plain": [
              "array([[166468.72605157]])"
            ]
          },
          "metadata": {
            "tags": []
          },
          "execution_count": 5
        }
      ]
    },
    {
      "cell_type": "code",
      "metadata": {
        "id": "-AIGwLzLIkJS"
      },
      "source": [
        "import numpy as np\n",
        "## Creating a function for salary prediction \n",
        "def sal_predict():\n",
        "  years = int(input(\"Enter the years of exp: \"))\n",
        "  sal = model.predict([[years]])[0][0]\n",
        "  ## [0][0] was used since it gives a 2D array so in order to get the clean number apart from brackets we used them!\n",
        "  sal= np.round(sal)\n",
        "  return \"Salary of the employee: \" + str(sal)"
      ],
      "execution_count": null,
      "outputs": []
    },
    {
      "cell_type": "code",
      "metadata": {
        "id": "_lzhlrC3JI6C",
        "colab": {
          "base_uri": "https://localhost:8080/",
          "height": 52
        },
        "outputId": "1913af4c-cfe1-47d2-9748-518e61fecb87"
      },
      "source": [
        "sal_predict()"
      ],
      "execution_count": null,
      "outputs": [
        {
          "output_type": "stream",
          "text": [
            "Enter the years of exp: 15\n"
          ],
          "name": "stdout"
        },
        {
          "output_type": "execute_result",
          "data": {
            "application/vnd.google.colaboratory.intrinsic+json": {
              "type": "string"
            },
            "text/plain": [
              "'Salary of the employee: 166469.0'"
            ]
          },
          "metadata": {
            "tags": []
          },
          "execution_count": 7
        }
      ]
    },
    {
      "cell_type": "code",
      "metadata": {
        "id": "EwFSW3eJJKJ9"
      },
      "source": [],
      "execution_count": null,
      "outputs": []
    },
    {
      "cell_type": "code",
      "source": [],
      "metadata": {
        "id": "hkhW3h-DEq_a"
      },
      "execution_count": null,
      "outputs": []
    }
  ]
}